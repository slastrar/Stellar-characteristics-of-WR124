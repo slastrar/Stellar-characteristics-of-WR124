{
 "cells": [
  {
   "cell_type": "markdown",
   "id": "77d6da67",
   "metadata": {},
   "source": [
    "# WR124\n",
    "# Santiago Lastra Ramírez"
   ]
  },
  {
   "cell_type": "code",
   "execution_count": 1,
   "id": "119d02ae",
   "metadata": {},
   "outputs": [],
   "source": [
    "from astroquery.gaia import Gaia\n",
    "from astropy.visualization import hist\n",
    "import numpy as np\n",
    "import matplotlib.pyplot as plt\n",
    "from astropy.coordinates import SkyCoord\n",
    "from astropy.table import unique\n",
    "from astroquery.mast import Catalogs\n",
    "from scipy.spatial import distance\n",
    "import pandas as pd\n",
    "from astropy.table import Table,vstack\n",
    "from tqdm import tqdm\n",
    "from gatspy.periodic import LombScargleFast\n",
    "from gatspy.periodic import LombScargle\n",
    "from sklearn.mixture import GaussianMixture as GMM\n",
    "\n",
    "load_esasky = True\n",
    "\n",
    "if load_esasky:\n",
    "    from pyesasky import ESASkyWidget\n",
    "    from pyesasky import Catalogue\n",
    "    from pyesasky.cooFrame   import CooFrame\n",
    "    \n",
    "plt.style.use('classic')\n",
    "#%matplotlib nbagg"
   ]
  },
  {
   "cell_type": "markdown",
   "id": "971800aa",
   "metadata": {},
   "source": [
    "## Se hace una búsqueda de los Datos"
   ]
  },
  {
   "cell_type": "code",
   "execution_count": 2,
   "id": "d4160d0c",
   "metadata": {},
   "outputs": [
    {
     "name": "stdout",
     "output_type": "stream",
     "text": [
      "INFO: Login to gaia TAP server [astroquery.gaia.core]\n",
      "Password: ········\n",
      "OK\n",
      "INFO: Login to gaia data server [astroquery.gaia.core]\n",
      "OK\n"
     ]
    }
   ],
   "source": [
    "user_name = 'slastra'\n",
    "Gaia.login(user = user_name) # Also: Gaia.login()"
   ]
  },
  {
   "cell_type": "markdown",
   "id": "8ca6a81c",
   "metadata": {},
   "source": [
    "Se crea un cone search de gaia centrado en WR124 con coordenadas RA: 19:11:30.87, DEC: +16:51:38.2 y un radio de 1 minuto de arco. Además se hace un JOIN con la extensión $\\textit{external.gaiaedr3_distance}$ para obtener la columna de las distancia, esta distancia se calculó con un proceso fotogeométrico usando el color y la magnitud de la estrella. Finalmente se eliminan las estrellas con paralajes negativos, con errores mayores al 10% y con $\\texttt{NANs}$."
   ]
  },
  {
   "cell_type": "code",
   "execution_count": 3,
   "id": "fb6566ac",
   "metadata": {},
   "outputs": [],
   "source": [
    "radius  = 2/60    # Degrees\n",
    "\n",
    "#WR124\n",
    "inp_ra  = (19+11/60+30.8749167768/3600)*(360/24)\n",
    "inp_dec = 16+51/60+38.200938264/3600  # Degrees\n",
    "\n",
    "query = f\"SELECT DISTANCE( POINT('ICRS', {inp_ra}, {inp_dec}) , POINT('ICRS', ra, dec) ) AS dist, *\\\n",
    "FROM gaiaedr3.gaia_source JOIN external.gaiaedr3_distance AS dist USING (source_id)\\\n",
    "WHERE 1=CONTAINS( POINT('ICRS', {inp_ra}, {inp_dec}),CIRCLE('ICRS',ra, dec, {radius})) AND \\\n",
    "parallax>0 ORDER BY dist ASC\""
   ]
  },
  {
   "cell_type": "code",
   "execution_count": 4,
   "id": "2b01dacd",
   "metadata": {},
   "outputs": [
    {
     "name": "stdout",
     "output_type": "stream",
     "text": [
      "INFO: Query finished. [astroquery.utils.tap.core]\n",
      "Table size (rows): 548\n"
     ]
    },
    {
     "data": {
      "text/html": [
       "<div>\n",
       "<style scoped>\n",
       "    .dataframe tbody tr th:only-of-type {\n",
       "        vertical-align: middle;\n",
       "    }\n",
       "\n",
       "    .dataframe tbody tr th {\n",
       "        vertical-align: top;\n",
       "    }\n",
       "\n",
       "    .dataframe thead th {\n",
       "        text-align: right;\n",
       "    }\n",
       "</style>\n",
       "<table border=\"1\" class=\"dataframe\">\n",
       "  <thead>\n",
       "    <tr style=\"text-align: right;\">\n",
       "      <th></th>\n",
       "      <th>index</th>\n",
       "      <th>dist</th>\n",
       "      <th>solution_id</th>\n",
       "      <th>DESIGNATION</th>\n",
       "      <th>random_index</th>\n",
       "      <th>ref_epoch</th>\n",
       "      <th>ra</th>\n",
       "      <th>ra_error</th>\n",
       "      <th>dec</th>\n",
       "      <th>dec_error</th>\n",
       "      <th>...</th>\n",
       "      <th>ecl_lon</th>\n",
       "      <th>ecl_lat</th>\n",
       "      <th>r_med_geo</th>\n",
       "      <th>r_lo_geo</th>\n",
       "      <th>r_hi_geo</th>\n",
       "      <th>r_med_photogeo</th>\n",
       "      <th>r_lo_photogeo</th>\n",
       "      <th>r_hi_photogeo</th>\n",
       "      <th>flag</th>\n",
       "      <th>source_id</th>\n",
       "    </tr>\n",
       "  </thead>\n",
       "  <tbody>\n",
       "    <tr>\n",
       "      <th>0</th>\n",
       "      <td>0</td>\n",
       "      <td>0.000028</td>\n",
       "      <td>1636042515805110273</td>\n",
       "      <td>Gaia EDR3 4513494205567536512</td>\n",
       "      <td>1152232525</td>\n",
       "      <td>2016.0</td>\n",
       "      <td>287.878634</td>\n",
       "      <td>0.009605</td>\n",
       "      <td>16.860586</td>\n",
       "      <td>0.010516</td>\n",
       "      <td>...</td>\n",
       "      <td>292.191067</td>\n",
       "      <td>38.932518</td>\n",
       "      <td>5356.714355</td>\n",
       "      <td>5022.489746</td>\n",
       "      <td>5739.628418</td>\n",
       "      <td>5430.260254</td>\n",
       "      <td>5049.285645</td>\n",
       "      <td>5813.456543</td>\n",
       "      <td>10033</td>\n",
       "      <td>4513494205567536512</td>\n",
       "    </tr>\n",
       "    <tr>\n",
       "      <th>1</th>\n",
       "      <td>1</td>\n",
       "      <td>0.002228</td>\n",
       "      <td>1636042515805110273</td>\n",
       "      <td>Gaia EDR3 4513494205541409152</td>\n",
       "      <td>1375284589</td>\n",
       "      <td>2016.0</td>\n",
       "      <td>287.876330</td>\n",
       "      <td>0.312408</td>\n",
       "      <td>16.860385</td>\n",
       "      <td>0.376339</td>\n",
       "      <td>...</td>\n",
       "      <td>292.188227</td>\n",
       "      <td>38.932665</td>\n",
       "      <td>879.128540</td>\n",
       "      <td>662.557068</td>\n",
       "      <td>1213.256836</td>\n",
       "      <td>4463.018066</td>\n",
       "      <td>2897.739746</td>\n",
       "      <td>6450.711914</td>\n",
       "      <td>10033</td>\n",
       "      <td>4513494205541409152</td>\n",
       "    </tr>\n",
       "    <tr>\n",
       "      <th>2</th>\n",
       "      <td>2</td>\n",
       "      <td>0.002820</td>\n",
       "      <td>1636042515805110273</td>\n",
       "      <td>Gaia EDR3 4513494205567535744</td>\n",
       "      <td>1040826218</td>\n",
       "      <td>2016.0</td>\n",
       "      <td>287.876907</td>\n",
       "      <td>0.670236</td>\n",
       "      <td>16.858335</td>\n",
       "      <td>0.721190</td>\n",
       "      <td>...</td>\n",
       "      <td>292.188515</td>\n",
       "      <td>38.930554</td>\n",
       "      <td>3260.680664</td>\n",
       "      <td>1489.046387</td>\n",
       "      <td>5916.484863</td>\n",
       "      <td>7731.024902</td>\n",
       "      <td>5612.053711</td>\n",
       "      <td>10234.283203</td>\n",
       "      <td>10033</td>\n",
       "      <td>4513494205567535744</td>\n",
       "    </tr>\n",
       "    <tr>\n",
       "      <th>3</th>\n",
       "      <td>3</td>\n",
       "      <td>0.002899</td>\n",
       "      <td>1636042515805110273</td>\n",
       "      <td>Gaia EDR3 4513494205536905728</td>\n",
       "      <td>1481847962</td>\n",
       "      <td>2016.0</td>\n",
       "      <td>287.875732</td>\n",
       "      <td>0.901345</td>\n",
       "      <td>16.861405</td>\n",
       "      <td>0.822834</td>\n",
       "      <td>...</td>\n",
       "      <td>292.187707</td>\n",
       "      <td>38.933763</td>\n",
       "      <td>4640.042969</td>\n",
       "      <td>2927.371582</td>\n",
       "      <td>7592.148926</td>\n",
       "      <td>11983.647461</td>\n",
       "      <td>9369.419922</td>\n",
       "      <td>14847.066406</td>\n",
       "      <td>10033</td>\n",
       "      <td>4513494205536905728</td>\n",
       "    </tr>\n",
       "    <tr>\n",
       "      <th>4</th>\n",
       "      <td>4</td>\n",
       "      <td>0.003741</td>\n",
       "      <td>1636042515805110273</td>\n",
       "      <td>Gaia EDR3 4513494205536929280</td>\n",
       "      <td>1475709311</td>\n",
       "      <td>2016.0</td>\n",
       "      <td>287.877023</td>\n",
       "      <td>0.362627</td>\n",
       "      <td>16.864015</td>\n",
       "      <td>0.458645</td>\n",
       "      <td>...</td>\n",
       "      <td>292.189802</td>\n",
       "      <td>38.936146</td>\n",
       "      <td>1532.124756</td>\n",
       "      <td>952.334961</td>\n",
       "      <td>2311.390625</td>\n",
       "      <td>7745.702148</td>\n",
       "      <td>5750.795898</td>\n",
       "      <td>10738.900391</td>\n",
       "      <td>10033</td>\n",
       "      <td>4513494205536929280</td>\n",
       "    </tr>\n",
       "    <tr>\n",
       "      <th>...</th>\n",
       "      <td>...</td>\n",
       "      <td>...</td>\n",
       "      <td>...</td>\n",
       "      <td>...</td>\n",
       "      <td>...</td>\n",
       "      <td>...</td>\n",
       "      <td>...</td>\n",
       "      <td>...</td>\n",
       "      <td>...</td>\n",
       "      <td>...</td>\n",
       "      <td>...</td>\n",
       "      <td>...</td>\n",
       "      <td>...</td>\n",
       "      <td>...</td>\n",
       "      <td>...</td>\n",
       "      <td>...</td>\n",
       "      <td>...</td>\n",
       "      <td>...</td>\n",
       "      <td>...</td>\n",
       "      <td>...</td>\n",
       "      <td>...</td>\n",
       "    </tr>\n",
       "    <tr>\n",
       "      <th>543</th>\n",
       "      <td>543</td>\n",
       "      <td>0.033194</td>\n",
       "      <td>1636042515805110273</td>\n",
       "      <td>Gaia EDR3 4513492693713245440</td>\n",
       "      <td>465295235</td>\n",
       "      <td>2016.0</td>\n",
       "      <td>287.855369</td>\n",
       "      <td>0.799001</td>\n",
       "      <td>16.836003</td>\n",
       "      <td>0.899991</td>\n",
       "      <td>...</td>\n",
       "      <td>292.157845</td>\n",
       "      <td>38.911732</td>\n",
       "      <td>3898.231445</td>\n",
       "      <td>2099.141113</td>\n",
       "      <td>6238.783203</td>\n",
       "      <td>7558.073242</td>\n",
       "      <td>5892.756836</td>\n",
       "      <td>9855.824219</td>\n",
       "      <td>20033</td>\n",
       "      <td>4513492693713245440</td>\n",
       "    </tr>\n",
       "    <tr>\n",
       "      <th>544</th>\n",
       "      <td>544</td>\n",
       "      <td>0.033195</td>\n",
       "      <td>1636042515805110273</td>\n",
       "      <td>Gaia EDR3 4513493002946412544</td>\n",
       "      <td>1626965071</td>\n",
       "      <td>2016.0</td>\n",
       "      <td>287.844859</td>\n",
       "      <td>0.393367</td>\n",
       "      <td>16.868127</td>\n",
       "      <td>0.438209</td>\n",
       "      <td>...</td>\n",
       "      <td>292.151547</td>\n",
       "      <td>38.945036</td>\n",
       "      <td>5950.381348</td>\n",
       "      <td>2898.826172</td>\n",
       "      <td>9671.857422</td>\n",
       "      <td>7060.175781</td>\n",
       "      <td>5383.775879</td>\n",
       "      <td>8945.966797</td>\n",
       "      <td>10033</td>\n",
       "      <td>4513493002946412544</td>\n",
       "    </tr>\n",
       "    <tr>\n",
       "      <th>545</th>\n",
       "      <td>545</td>\n",
       "      <td>0.033204</td>\n",
       "      <td>1636042515805110273</td>\n",
       "      <td>Gaia EDR3 4513492895564245504</td>\n",
       "      <td>729344465</td>\n",
       "      <td>2016.0</td>\n",
       "      <td>287.844068</td>\n",
       "      <td>0.093944</td>\n",
       "      <td>16.857869</td>\n",
       "      <td>0.100980</td>\n",
       "      <td>...</td>\n",
       "      <td>292.148519</td>\n",
       "      <td>38.935023</td>\n",
       "      <td>5071.829102</td>\n",
       "      <td>3391.131592</td>\n",
       "      <td>7575.100586</td>\n",
       "      <td>3434.433105</td>\n",
       "      <td>2616.213623</td>\n",
       "      <td>4566.101562</td>\n",
       "      <td>10033</td>\n",
       "      <td>4513492895564245504</td>\n",
       "    </tr>\n",
       "    <tr>\n",
       "      <th>546</th>\n",
       "      <td>546</td>\n",
       "      <td>0.033295</td>\n",
       "      <td>1636042515805110273</td>\n",
       "      <td>Gaia EDR3 4513491903465020800</td>\n",
       "      <td>963276342</td>\n",
       "      <td>2016.0</td>\n",
       "      <td>287.892940</td>\n",
       "      <td>0.028424</td>\n",
       "      <td>16.830257</td>\n",
       "      <td>0.031446</td>\n",
       "      <td>...</td>\n",
       "      <td>292.202326</td>\n",
       "      <td>38.900415</td>\n",
       "      <td>1744.114868</td>\n",
       "      <td>1629.742920</td>\n",
       "      <td>1895.279297</td>\n",
       "      <td>1703.552734</td>\n",
       "      <td>1596.640747</td>\n",
       "      <td>1882.655518</td>\n",
       "      <td>10033</td>\n",
       "      <td>4513491903465020800</td>\n",
       "    </tr>\n",
       "    <tr>\n",
       "      <th>547</th>\n",
       "      <td>547</td>\n",
       "      <td>0.033301</td>\n",
       "      <td>1636042515805110273</td>\n",
       "      <td>Gaia EDR3 4513492620686147712</td>\n",
       "      <td>1572033150</td>\n",
       "      <td>2016.0</td>\n",
       "      <td>287.861503</td>\n",
       "      <td>0.101006</td>\n",
       "      <td>16.831632</td>\n",
       "      <td>0.109725</td>\n",
       "      <td>...</td>\n",
       "      <td>292.164417</td>\n",
       "      <td>38.906495</td>\n",
       "      <td>6403.692383</td>\n",
       "      <td>4497.404297</td>\n",
       "      <td>9022.060547</td>\n",
       "      <td>4102.121582</td>\n",
       "      <td>3156.211670</td>\n",
       "      <td>6123.259766</td>\n",
       "      <td>10033</td>\n",
       "      <td>4513492620686147712</td>\n",
       "    </tr>\n",
       "  </tbody>\n",
       "</table>\n",
       "<p>548 rows × 108 columns</p>\n",
       "</div>"
      ],
      "text/plain": [
       "     index      dist          solution_id                    DESIGNATION  \\\n",
       "0        0  0.000028  1636042515805110273  Gaia EDR3 4513494205567536512   \n",
       "1        1  0.002228  1636042515805110273  Gaia EDR3 4513494205541409152   \n",
       "2        2  0.002820  1636042515805110273  Gaia EDR3 4513494205567535744   \n",
       "3        3  0.002899  1636042515805110273  Gaia EDR3 4513494205536905728   \n",
       "4        4  0.003741  1636042515805110273  Gaia EDR3 4513494205536929280   \n",
       "..     ...       ...                  ...                            ...   \n",
       "543    543  0.033194  1636042515805110273  Gaia EDR3 4513492693713245440   \n",
       "544    544  0.033195  1636042515805110273  Gaia EDR3 4513493002946412544   \n",
       "545    545  0.033204  1636042515805110273  Gaia EDR3 4513492895564245504   \n",
       "546    546  0.033295  1636042515805110273  Gaia EDR3 4513491903465020800   \n",
       "547    547  0.033301  1636042515805110273  Gaia EDR3 4513492620686147712   \n",
       "\n",
       "     random_index  ref_epoch          ra  ra_error        dec  dec_error  ...  \\\n",
       "0      1152232525     2016.0  287.878634  0.009605  16.860586   0.010516  ...   \n",
       "1      1375284589     2016.0  287.876330  0.312408  16.860385   0.376339  ...   \n",
       "2      1040826218     2016.0  287.876907  0.670236  16.858335   0.721190  ...   \n",
       "3      1481847962     2016.0  287.875732  0.901345  16.861405   0.822834  ...   \n",
       "4      1475709311     2016.0  287.877023  0.362627  16.864015   0.458645  ...   \n",
       "..            ...        ...         ...       ...        ...        ...  ...   \n",
       "543     465295235     2016.0  287.855369  0.799001  16.836003   0.899991  ...   \n",
       "544    1626965071     2016.0  287.844859  0.393367  16.868127   0.438209  ...   \n",
       "545     729344465     2016.0  287.844068  0.093944  16.857869   0.100980  ...   \n",
       "546     963276342     2016.0  287.892940  0.028424  16.830257   0.031446  ...   \n",
       "547    1572033150     2016.0  287.861503  0.101006  16.831632   0.109725  ...   \n",
       "\n",
       "        ecl_lon    ecl_lat    r_med_geo     r_lo_geo     r_hi_geo  \\\n",
       "0    292.191067  38.932518  5356.714355  5022.489746  5739.628418   \n",
       "1    292.188227  38.932665   879.128540   662.557068  1213.256836   \n",
       "2    292.188515  38.930554  3260.680664  1489.046387  5916.484863   \n",
       "3    292.187707  38.933763  4640.042969  2927.371582  7592.148926   \n",
       "4    292.189802  38.936146  1532.124756   952.334961  2311.390625   \n",
       "..          ...        ...          ...          ...          ...   \n",
       "543  292.157845  38.911732  3898.231445  2099.141113  6238.783203   \n",
       "544  292.151547  38.945036  5950.381348  2898.826172  9671.857422   \n",
       "545  292.148519  38.935023  5071.829102  3391.131592  7575.100586   \n",
       "546  292.202326  38.900415  1744.114868  1629.742920  1895.279297   \n",
       "547  292.164417  38.906495  6403.692383  4497.404297  9022.060547   \n",
       "\n",
       "     r_med_photogeo  r_lo_photogeo  r_hi_photogeo   flag            source_id  \n",
       "0       5430.260254    5049.285645    5813.456543  10033  4513494205567536512  \n",
       "1       4463.018066    2897.739746    6450.711914  10033  4513494205541409152  \n",
       "2       7731.024902    5612.053711   10234.283203  10033  4513494205567535744  \n",
       "3      11983.647461    9369.419922   14847.066406  10033  4513494205536905728  \n",
       "4       7745.702148    5750.795898   10738.900391  10033  4513494205536929280  \n",
       "..              ...            ...            ...    ...                  ...  \n",
       "543     7558.073242    5892.756836    9855.824219  20033  4513492693713245440  \n",
       "544     7060.175781    5383.775879    8945.966797  10033  4513493002946412544  \n",
       "545     3434.433105    2616.213623    4566.101562  10033  4513492895564245504  \n",
       "546     1703.552734    1596.640747    1882.655518  10033  4513491903465020800  \n",
       "547     4102.121582    3156.211670    6123.259766  10033  4513492620686147712  \n",
       "\n",
       "[548 rows x 108 columns]"
      ]
     },
     "execution_count": 4,
     "metadata": {},
     "output_type": "execute_result"
    }
   ],
   "source": [
    "job     = Gaia.launch_job_async(query)\n",
    "results = job.get_results().to_pandas()\n",
    "\n",
    "#Se eliminan NANs\n",
    "results = results.dropna(subset = ['parallax']).reset_index()\n",
    "\n",
    "print(f'Table size (rows): {len(results)}')\n",
    "results"
   ]
  },
  {
   "cell_type": "markdown",
   "id": "2cb527fc",
   "metadata": {},
   "source": [
    "Ya teniendo las estrellas cercanas a WR124 del catálogo de Gaia se procede a buscarlas en Panstarrs para obtener la fotometría multi-época y se escoge la estrella que tenga una menor distancia al conesearch (ya que el conesearch puede albergar a más de 1 estrella). \n",
    "\n",
    "Finalmente se guardan todos los DataFrames de la fotometría de las estrellas extraídas de Panstarrs en una lista."
   ]
  },
  {
   "cell_type": "code",
   "execution_count": 5,
   "id": "f76cc19b",
   "metadata": {},
   "outputs": [
    {
     "name": "stderr",
     "output_type": "stream",
     "text": [
      "WARNING: NoResultsWarning: Query returned no results. [astroquery.mast.services]\n"
     ]
    },
    {
     "name": "stdout",
     "output_type": "stream",
     "text": [
      "La cantidad de estrellas con datos fotométricos es de 517\n"
     ]
    }
   ],
   "source": [
    "df=[]\n",
    "\n",
    "for i in range(len(results)):\n",
    "    try:\n",
    "        a=Catalogs.query_object(f\"{results.loc[i, 'ra']} {results.loc[i, 'dec']}\",\n",
    "                                radius= 1/3600, catalog='Panstarrs', data_release= 'dr2', \n",
    "                                table='detections')\n",
    "    \n",
    "        if len(a)<10: #Si se tienen pocos datos fotométricos\n",
    "            continue\n",
    "    except:\n",
    "        continue\n",
    "    \n",
    "    b=a[a[\"distance\"]==min(a[\"distance\"])].to_pandas() #Por si en el conesearch hay varias estrellas\n",
    "    b=b.dropna(subset = [\"psfFluxErr\",\"psfFlux\"]).reset_index(drop=True) #Se eliminan los NANs\n",
    "    b=b[b[\"psfFluxErr\"]/b[\"psfFlux\"]<0.1] #Si el error porcentual del flujo es menor al 10%\n",
    "    df.append(b)\n",
    "print(\"La cantidad de estrellas con datos fotométricos es de\",len(df))"
   ]
  },
  {
   "cell_type": "markdown",
   "id": "8063cf50",
   "metadata": {},
   "source": [
    "## Se determinan las estrellas que tienen un cambio en el flujo en el tiempo relevante"
   ]
  },
  {
   "cell_type": "markdown",
   "id": "281126df",
   "metadata": {},
   "source": [
    "Ya habiendo obtenido los datos multiépoca para las estrellas, se procede a hacer una limpieza en estos datos, dejando únicamente las estrellas que tienen un cambio en el flujo relevante. Esta limpieza es necesaria ya que las estrellas Wolf-Rayet pierden mucho material debido a sus vientos solares o son normalmente binarias, causando que su flujo varíe a través del tiempo.\n",
    "\n",
    "Esta selección se hace tomando a cada una de las estrellas, calculando el flujo medio de los datos fotométricos multi-época y luego calculando la distancia que hay entre la media del flujo y el flujo que está más alejado de esta media. Finalmente con esta distancia se hace un histograma para todas las estrellas y se eliminan todas aquellas que tienen esta distancia menor a la media más un sigma."
   ]
  },
  {
   "cell_type": "code",
   "execution_count": 6,
   "id": "a62ae064",
   "metadata": {},
   "outputs": [
    {
     "name": "stdout",
     "output_type": "stream",
     "text": [
      "La cantidad de datos es 517\n",
      "La media es 0.005041764550684599\n",
      "La desviacion estándar es 0.0839206206733935\n",
      "La media más un sigma es 0.0889623852240781\n"
     ]
    }
   ],
   "source": [
    "variable=[]\n",
    "for i in range(len(df)):\n",
    "    media=np.mean(df[i][\"psfFlux\"])\n",
    "    \n",
    "    try: # Se crea este try para no tomar los dataframes que están vacíos\n",
    "        maximo=max(df[i][\"psfFlux\"])\n",
    "    except:\n",
    "        continue\n",
    "    variable.append(abs(maximo-media))\n",
    "\n",
    "print(f\"La cantidad de datos es {len(variable)}\\nLa media es {np.mean(variable)}\\nLa desviacion estándar es {np.std(variable)}\\nLa media más un sigma es {np.mean(variable)+np.std(variable)}\")"
   ]
  },
  {
   "cell_type": "code",
   "execution_count": 14,
   "id": "0f5fb2d6",
   "metadata": {},
   "outputs": [
    {
     "data": {
      "image/png": "[encoded data removed]",
      "text/plain": [
       "<Figure size 700x490 with 1 Axes>"
      ]
     },
     "metadata": {},
     "output_type": "display_data"
    }
   ],
   "source": [
    "plt.figure(dpi=70,figsize=(10,7))\n",
    "plt.hist(variable, bins = 'scott', edgecolor='k', density=1)\n",
    "plt.xlabel('$|Flujo$ $Medio-Flujo$ $Máximo|$',fontsize = 24,fontweight='bold')\n",
    "plt.xticks(fontsize=13)\n",
    "plt.yticks(fontsize=13)\n",
    "#plt.xlim(-0.03,0.5)\n",
    "#plt.savefig('Histogram_Flux.png',dpi=400)\n",
    "plt.show()"
   ]
  },
  {
   "cell_type": "markdown",
   "id": "b2d43219",
   "metadata": {},
   "source": [
    "Se toman los datos fotométricos multi-época de las estrellas que cumplen con la condición mencionada anteriormente."
   ]
  },
  {
   "cell_type": "code",
   "execution_count": 8,
   "id": "fbf88a91",
   "metadata": {},
   "outputs": [
    {
     "name": "stdout",
     "output_type": "stream",
     "text": [
      "0\n",
      "429\n"
     ]
    }
   ],
   "source": [
    "star_almostvariable=[] #Estrellas que cumplen la condición\n",
    "dataf=pd.DataFrame() #Se guardan los datos arrojados por gaia de las estrellas que cumplen la condición\n",
    "\n",
    "for i in range(len(variable)):\n",
    "    if variable[i]>np.mean(variable)+np.std(variable):\n",
    "        star_almostvariable.append(df[i])\n",
    "        dataf=dataf.append(results[results[\"index\"]==np.array(results['index'])[i]])\n",
    "        print(i)"
   ]
  },
  {
   "cell_type": "markdown",
   "id": "c26aaac8",
   "metadata": {},
   "source": [
    "## Se muestra de manera gráfica cuáles fueron las estrellas seleccionadas"
   ]
  },
  {
   "cell_type": "markdown",
   "id": "bc19d37c",
   "metadata": {},
   "source": [
    "Se hace un gráfico con las estrellas encontradas por el conesearch de gaia y las que les cambia el flujo de la estrella en buena medida"
   ]
  },
  {
   "cell_type": "code",
   "execution_count": 15,
   "id": "e61a4cb5",
   "metadata": {},
   "outputs": [
    {
     "data": {
      "image/png": "[encoded data removed]",
      "text/plain": [
       "<Figure size 800x800 with 1 Axes>"
      ]
     },
     "metadata": {},
     "output_type": "display_data"
    }
   ],
   "source": [
    "plt.figure(figsize=(10,10))\n",
    "plt.scatter(results['ra'],results['dec'],c='k',label=\"$Conesearch$ $Gaia$\")\n",
    "plt.scatter(dataf['ra'],dataf['dec'],c='r',s=100,label=\"$Estrella$ $con$ $Flujo$ $variante$\")\n",
    "plt.xlabel(\"$RA$\",fontsize=22)\n",
    "plt.ylabel(\"$DEC$\",fontsize=22)\n",
    "plt.legend()\n",
    "plt.savefig('Gráfica_Espacial.png',dpi=400)\n",
    "plt.show()"
   ]
  },
  {
   "cell_type": "markdown",
   "id": "03c1778b",
   "metadata": {},
   "source": [
    "Se puede identificar entonces que después de realizar este proceso se encuentran 2 estrellas con un cambio en el flujo relevante."
   ]
  },
  {
   "cell_type": "markdown",
   "id": "4f414e19",
   "metadata": {},
   "source": [
    "## Se procede a determinar la temperatura de las estrellas"
   ]
  },
  {
   "cell_type": "markdown",
   "id": "4f2a9e27",
   "metadata": {},
   "source": [
    "Primero se calcula la distancia, luego la Magnitud Absoluta, posteriormente la luminosidad usando la ley de Pogson y finalmente la temperatura de la estrella con la ley de Stefan-Boltzmann"
   ]
  },
  {
   "cell_type": "code",
   "execution_count": 11,
   "id": "1ffc298e",
   "metadata": {},
   "outputs": [
    {
     "name": "stdout",
     "output_type": "stream",
     "text": [
      "La temperatura para la estrella del centro de la gráfica es 48671.8125 K y la otra es de 7052.109375 K.\n"
     ]
    }
   ],
   "source": [
    "Lsol = 3.828e26 #W. Luminosidad del Sol\n",
    "Msol = 5.45 #Magnitud del Sol en la banda G, sacado de Blanton et al.2003\n",
    "Rwr124= 6.96e8*0.7 #0.7R⊙. Valor extraído de W.-R. Hamann, G. Gräfener, and A. Liermann.2006\n",
    "sigma = 5.670373e-8 #W/m^2 K^4. Constante de Boltzmann\n",
    "\n",
    "Mabsolute= lambda distance,m: m-5*np.log10(distance/10)\n",
    "luminosidad = lambda Mabsolute: Lsol*10**((Msol-Mabsolute)/(2.5)) \n",
    "temperature = lambda luminosidad: (luminosidad/(4*np.pi*sigma*Rwr124**2))**(1/4)\n",
    "\n",
    "M=Mabsolute(np.array(dataf['r_med_geo']),np.array(dataf[\"phot_g_mean_mag\"]))\n",
    "L=luminosidad(Mabsolute(np.array(dataf['r_med_geo']),np.array(dataf[\"phot_g_mean_mag\"])))\n",
    "T=temperature(luminosidad(Mabsolute(np.array(dataf['r_med_geo']),np.array(dataf[\"phot_g_mean_mag\"]))))\n",
    "\n",
    "print(f\"La temperatura para la estrella del centro de la gráfica es {T[0]} K y la otra es de {T[1]} K.\")"
   ]
  },
  {
   "cell_type": "markdown",
   "id": "0bd5f387",
   "metadata": {},
   "source": [
    "Como se puede observar, la estrella que está en el centro de la imagen tiene una temperatura de 4.87 x 10$^4$K cumpliendo con el rango de temperaturas para considerarse una estrella Wolf-Rayet. En efecto esta estrella es WR124.  "
   ]
  },
  {
   "cell_type": "markdown",
   "id": "5a459ce7",
   "metadata": {},
   "source": [
    "## Se calcula el periodo con el que cambia la luminosidad de las estrellas seleccionadas"
   ]
  },
  {
   "cell_type": "markdown",
   "id": "9a8d12ec",
   "metadata": {},
   "source": [
    "Este periodo se calcula haciendo uso de la herramienta $\\textit{LombScargle}$ de$\\texttt{ gatspy.periodic}$"
   ]
  },
  {
   "cell_type": "code",
   "execution_count": 10,
   "id": "131a5287",
   "metadata": {},
   "outputs": [
    {
     "name": "stdout",
     "output_type": "stream",
     "text": [
      "El periodo para la estrella del centro de la gráfica es 2.5852196272058814 días y para la otra es de 4.160272280196628 días\n"
     ]
    }
   ],
   "source": [
    "period=[]\n",
    "power=[]\n",
    "periodo=[]\n",
    "\n",
    "for i in range(len(star_almostvariable)):\n",
    "    mode=LombScargle().fit(star_almostvariable[i][\"obsTime\"],star_almostvariable[i][\"psfFlux\"],\n",
    "                               star_almostvariable[i][\"psfFluxErr\"])\n",
    "    period.append(mode.periodogram_auto(nyquist_factor=100)[0])\n",
    "    power.append(mode.periodogram_auto(nyquist_factor=100)[1])\n",
    "    periodo.append(period[i][np.argmax(power[i])])\n",
    "print(f\"El periodo para la estrella del centro de la gráfica es {periodo[0]} días \\\n",
    "y para la otra es de {periodo[1]} días\")"
   ]
  },
  {
   "cell_type": "markdown",
   "id": "10d7b8cf",
   "metadata": {},
   "source": [
    "## Se construye la curva de luz para WR124"
   ]
  },
  {
   "cell_type": "code",
   "execution_count": 23,
   "id": "98e4e194",
   "metadata": {},
   "outputs": [
    {
     "data": {
      "image/png": "[encoded data removed]",
      "text/plain": [
       "<Figure size 600x420 with 1 Axes>"
      ]
     },
     "metadata": {},
     "output_type": "display_data"
    }
   ],
   "source": [
    "fig, axs = plt.subplots(1,1,figsize=(10,7),dpi=60,sharex=True,sharey=False)\n",
    "fig.subplots_adjust(hspace=0,wspace=0)\n",
    "magaper=lambda F:-2.5*np.log10(F)\n",
    "errmagaper=lambda F,dF:-2.5*(dF/F)\n",
    "k=0         \n",
    "phase = (star_almostvariable[k]['obsTime']/periodo[k])%1\n",
    "axs.errorbar(phase,star_almostvariable[k].psfFlux,\n",
    "             yerr=star_almostvariable[k].psfFluxErr,\n",
    "             fmt=\"ko\",markersize=7)\n",
    "    \n",
    "fig.text(0.5, 0, '$Phase$', ha='center',fontsize = 16)\n",
    "fig.text(0.07, 0.5, '$Flujo$', va='center', rotation='vertical',fontsize = 16)\n",
    "plt.savefig(\"CurvaLuz_WR124\",dpi=400)\n",
    "plt.show()        "
   ]
  }
 ],
 "metadata": {
  "kernelspec": {
   "display_name": "Python 3 (ipykernel)",
   "language": "python",
   "name": "python3"
  },
  "language_info": {
   "codemirror_mode": {
    "name": "ipython",
    "version": 3
   },
   "file_extension": ".py",
   "mimetype": "text/x-python",
   "name": "python",
   "nbconvert_exporter": "python",
   "pygments_lexer": "ipython3",
   "version": "3.9.7"
  }
 },
 "nbformat": 4,
 "nbformat_minor": 5
}
